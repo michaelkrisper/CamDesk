{
  "nbformat": 4,
  "nbformat_minor": 0,
  "metadata": {
    "colab": {
      "name": "Collab Book.ipynb",
      "provenance": [],
      "collapsed_sections": [],
      "authorship_tag": "ABX9TyPl1V/zmbolvfvI1ddEZNw5",
      "include_colab_link": true
    },
    "kernelspec": {
      "name": "python3",
      "display_name": "Python 3"
    }
  },
  "cells": [
    {
      "cell_type": "markdown",
      "metadata": {
        "id": "view-in-github",
        "colab_type": "text"
      },
      "source": [
        "<a href=\"https://colab.research.google.com/github/michaelkrisper/CamDesk/blob/master/Collab_Book.ipynb\" target=\"_parent\"><img src=\"https://colab.research.google.com/assets/colab-badge.svg\" alt=\"Open In Colab\"/></a>"
      ]
    },
    {
      "cell_type": "code",
      "metadata": {
        "id": "W5NzVqOBzUqC"
      },
      "source": [
        "import numpy as np\n",
        "import scipy\n",
        "import scipy.stats as st\n",
        "import matplotlib.pyplot as plt\n",
        "import math"
      ],
      "execution_count": null,
      "outputs": []
    },
    {
      "cell_type": "code",
      "metadata": {
        "colab": {
          "base_uri": "https://localhost:8080/",
          "height": 209
        },
        "id": "zWOYKdUPzW1n",
        "outputId": "bc253f1c-f578-470e-a6df-717b4a599335"
      },
      "source": [
        "def pert(xmin, xmode=math.nan, xmax=math.nan, conf=4):\n",
        "    if math.isnan(xmode) or math.isnan(xmax):\n",
        "        xmode = xmin\n",
        "        xmax = xmin\n",
        "    if xmin == xmax:\n",
        "        xmin = xmode * 0.99999999\n",
        "        xmax = xmode * 1.00000001\n",
        "    if xmax - xmin == 0:\n",
        "        result = scipy.stats.uniform(xmin, np.finfo(float).eps)\n",
        "    else:\n",
        "        a = conf * (xmode - xmin) / (xmax - xmin)\n",
        "        b = conf * (xmax - xmode) / (xmax - xmin)\n",
        "        result = scipy.stats.beta(a + 1, b + 1, xmin, (xmax - xmin))\n",
        "    result.min, result.max, result.mode = xmin, xmax, xmode\n",
        "    result.range = np.linspace(xmin, xmax, 100)\n",
        "    result.rangespace = np.linspace(xmin - (xmax - xmin) * .01, xmax + (xmax - xmin) * .01, 100000)\n",
        "    result.expected = np.mean(result.ppf(np.linspace(0, 1, 10000)))\n",
        "    return result\n",
        "\n",
        "\n",
        "a = pert(20, 30, 70, 4)\n",
        "b = pert(20, 30, 70, 20)\n",
        "c = pert(20, 30, 70, 2)\n",
        "d = pert(20, 30, 70, 0)\n",
        "e = pert(20, 55, 70, 10)\n",
        "f = pert(20, 45, 70)\n",
        "\n",
        "x = a.rangespace\n",
        "\n",
        "fig, ax = plt.subplots(1, 1, figsize=(4, 2.5))\n",
        "plt.plot(x, a.pdf(x), linestyle=\"-\", label=\"Medium\")\n",
        "plt.plot(x, b.pdf(x), linestyle=\"--\", label=\"High\")\n",
        "plt.plot(x, c.pdf(x), linestyle=\"-.\", label=\"Low\")\n",
        "plt.plot(x, d.pdf(x), linestyle=\":\", label=\"Very Low\", linewidth=2)\n",
        "plt.plot(x, e.pdf(x), linestyle=\"-\", label=\"Very Low\", linewidth=2)\n",
        "plt.plot(x, f.pdf(x), linestyle=\"--\", label=\"Very Low\")\n",
        "\n",
        "plt.axis([None, None, 0, None])\n",
        "ax.spines['top'].set_visible(False)\n",
        "ax.spines['right'].set_visible(False)\n",
        "\n",
        "ax.set_xticklabels([])\n",
        "ax.set_yticklabels([])\n",
        "ax.get_yaxis().set_visible(False)\n",
        "ax.plot(1, 0, \">k\", transform=ax.transAxes, zorder=1, clip_on=False, markersize=5)\n",
        "ax.plot(0, 1, \"^k\", transform=ax.transAxes, zorder=1, clip_on=False, markersize=5)\n",
        "\n",
        "\n",
        "plt.tight_layout(pad=0.1)\n",
        "plt.savefig(\"pert-examples.pdf\", transparent=True)\n",
        "plt.show()\n",
        "\n",
        "from google.colab import files\n",
        "files.download('pert-examples.pdf')\n",
        "\n"
      ],
      "execution_count": null,
      "outputs": [
        {
          "output_type": "display_data",
          "data": {
            "image/png": "[encoded data removed]",
            "text/plain": [
              "<Figure size 288x180 with 1 Axes>"
            ]
          },
          "metadata": {
            "tags": [],
            "needs_background": "light"
          }
        },
        {
          "output_type": "display_data",
          "data": {
            "application/javascript": [
              "\n",
              "    async function download(id, filename, size) {\n",
              "      if (!google.colab.kernel.accessAllowed) {\n",
              "        return;\n",
              "      }\n",
              "      const div = document.createElement('div');\n",
              "      const label = document.createElement('label');\n",
              "      label.textContent = `Downloading \"${filename}\": `;\n",
              "      div.appendChild(label);\n",
              "      const progress = document.createElement('progress');\n",
              "      progress.max = size;\n",
              "      div.appendChild(progress);\n",
              "      document.body.appendChild(div);\n",
              "\n",
              "      const buffers = [];\n",
              "      let downloaded = 0;\n",
              "\n",
              "      const channel = await google.colab.kernel.comms.open(id);\n",
              "      // Send a message to notify the kernel that we're ready.\n",
              "      channel.send({})\n",
              "\n",
              "      for await (const message of channel.messages) {\n",
              "        // Send a message to notify the kernel that we're ready.\n",
              "        channel.send({})\n",
              "        if (message.buffers) {\n",
              "          for (const buffer of message.buffers) {\n",
              "            buffers.push(buffer);\n",
              "            downloaded += buffer.byteLength;\n",
              "            progress.value = downloaded;\n",
              "          }\n",
              "        }\n",
              "      }\n",
              "      const blob = new Blob(buffers, {type: 'application/binary'});\n",
              "      const a = document.createElement('a');\n",
              "      a.href = window.URL.createObjectURL(blob);\n",
              "      a.download = filename;\n",
              "      div.appendChild(a);\n",
              "      a.click();\n",
              "      div.remove();\n",
              "    }\n",
              "  "
            ],
            "text/plain": [
              "<IPython.core.display.Javascript object>"
            ]
          },
          "metadata": {
            "tags": []
          }
        },
        {
          "output_type": "display_data",
          "data": {
            "application/javascript": [
              "download(\"download_32de5e52-ec0e-41eb-a150-993952b41fbc\", \"pert-examples.pdf\", 4967)"
            ],
            "text/plain": [
              "<IPython.core.display.Javascript object>"
            ]
          },
          "metadata": {
            "tags": []
          }
        }
      ]
    },
    {
      "cell_type": "code",
      "metadata": {
        "colab": {
          "base_uri": "https://localhost:8080/"
        },
        "id": "YaFeUGBiU-tS",
        "outputId": "bb9f95fe-1b84-48e6-a261-c41acf163e25"
      },
      "source": [
        "# Import PyDrive and associated libraries.\n",
        "# This only needs to be done once in a notebook.\n",
        "from pydrive.auth import GoogleAuth\n",
        "from pydrive.drive import GoogleDrive\n",
        "from google.colab import auth\n",
        "from oauth2client.client import GoogleCredentials\n",
        "\n",
        "# Authenticate and create the PyDrive client.\n",
        "# This only needs to be done once in a notebook.\n",
        "auth.authenticate_user()\n",
        "gauth = GoogleAuth()\n",
        "gauth.credentials = GoogleCredentials.get_application_default()\n",
        "drive = GoogleDrive(gauth)\n",
        "\n",
        "# Create & upload a text file.\n",
        "uploaded = drive.CreateFile({'title': 'Sample file.txt'})\n",
        "uploaded.SetContentString('Sample upload file content')\n",
        "uploaded.Upload()\n",
        "print('Uploaded file with ID {}'.format(uploaded.get('id')))"
      ],
      "execution_count": null,
      "outputs": [
        {
          "output_type": "stream",
          "text": [
            "Uploaded file with ID 1QSr6Ds_l2XBu6SFL_vgnv100Xa6iFtQr\n"
          ],
          "name": "stdout"
        }
      ]
    },
    {
      "cell_type": "code",
      "metadata": {
        "id": "EUt4WbilVFPw"
      },
      "source": [
        "from google.colab import files\n",
        "\n",
        "with open('example.txt', 'w') as f:\n",
        "  f.write('some content')\n",
        "\n",
        "files.download('example.txt')"
      ],
      "execution_count": null,
      "outputs": []
    },
    {
      "cell_type": "code",
      "metadata": {
        "colab": {
          "base_uri": "https://localhost:8080/",
          "height": 244
        },
        "id": "GNd-6wX7zdx4",
        "outputId": "746f753a-cc8c-4d51-cc3a-00058f51e78b"
      },
      "source": [
        "a=pert(20, 30, 70, 14)\n",
        "b=pert(20, 30, 70, 4)\n",
        "c=pert(20, 30, 70, 2)\n",
        "d=pert(20, 30, 70, 0)\n",
        "\n",
        "x = a.rangespace\n",
        "\n",
        "fig, ax = plt.subplots(1, 1, figsize=(3, 2.4))\n",
        "plt.plot(x, a.pdf(x), linestyle=\"-\", color=\"C0\", label=\"Very high conf. (λ=14)\")\n",
        "plt.plot(x, b.pdf(x), linestyle=\"--\", color=\"C2\", label=\"Normal conf. (λ=4)\")\n",
        "plt.plot(x, c.pdf(x), linestyle=\"-.\", color=\"C3\", label=\"Low conf. (λ=2)\")\n",
        "plt.plot(x, d.pdf(x), linestyle=\":\", color=\"C1\", label=\"Very low conf. (λ=0)\", linewidth=2)\n",
        "\n",
        "\n",
        "plt.axis([None, None, 0, None])\n",
        "ax.spines['top'].set_visible(False)\n",
        "ax.spines['right'].set_visible(False)\n",
        "ax.get_yaxis().set_visible(False)\n",
        "ax.plot(1, 0, \">k\", transform=ax.transAxes, zorder=1, clip_on=False, markersize=5)\n",
        "ax.plot(0, 1, \"^k\", transform=ax.transAxes, zorder=1, clip_on=False, markersize=5)\n",
        "legend = plt.legend(title=\"PERT[20-30-70, λ]:\")\n",
        "legend._legend_box.align = \"left\"\n",
        "#legend.get_title().set_fontsize(\"large\")\n",
        "\n",
        "plt.tight_layout(pad=0.2)\n",
        "plt.savefig(\"confidence.pdf\", transparent=True)\n",
        "plt.show()"
      ],
      "execution_count": null,
      "outputs": [
        {
          "output_type": "error",
          "ename": "NameError",
          "evalue": "ignored",
          "traceback": [
            "\u001b[0;31m---------------------------------------------------------------------------\u001b[0m",
            "\u001b[0;31mNameError\u001b[0m                                 Traceback (most recent call last)",
            "\u001b[0;32m<ipython-input-140-b663a7481536>\u001b[0m in \u001b[0;36m<module>\u001b[0;34m()\u001b[0m\n\u001b[0;32m----> 1\u001b[0;31m \u001b[0ma\u001b[0m\u001b[0;34m=\u001b[0m\u001b[0mpert\u001b[0m\u001b[0;34m(\u001b[0m\u001b[0;36m20\u001b[0m\u001b[0;34m,\u001b[0m \u001b[0;36m30\u001b[0m\u001b[0;34m,\u001b[0m \u001b[0;36m70\u001b[0m\u001b[0;34m,\u001b[0m \u001b[0;36m14\u001b[0m\u001b[0;34m)\u001b[0m\u001b[0;34m\u001b[0m\u001b[0;34m\u001b[0m\u001b[0m\n\u001b[0m\u001b[1;32m      2\u001b[0m \u001b[0mb\u001b[0m\u001b[0;34m=\u001b[0m\u001b[0mpert\u001b[0m\u001b[0;34m(\u001b[0m\u001b[0;36m20\u001b[0m\u001b[0;34m,\u001b[0m \u001b[0;36m30\u001b[0m\u001b[0;34m,\u001b[0m \u001b[0;36m70\u001b[0m\u001b[0;34m,\u001b[0m \u001b[0;36m4\u001b[0m\u001b[0;34m)\u001b[0m\u001b[0;34m\u001b[0m\u001b[0;34m\u001b[0m\u001b[0m\n\u001b[1;32m      3\u001b[0m \u001b[0mc\u001b[0m\u001b[0;34m=\u001b[0m\u001b[0mpert\u001b[0m\u001b[0;34m(\u001b[0m\u001b[0;36m20\u001b[0m\u001b[0;34m,\u001b[0m \u001b[0;36m30\u001b[0m\u001b[0;34m,\u001b[0m \u001b[0;36m70\u001b[0m\u001b[0;34m,\u001b[0m \u001b[0;36m2\u001b[0m\u001b[0;34m)\u001b[0m\u001b[0;34m\u001b[0m\u001b[0;34m\u001b[0m\u001b[0m\n\u001b[1;32m      4\u001b[0m \u001b[0md\u001b[0m\u001b[0;34m=\u001b[0m\u001b[0mpert\u001b[0m\u001b[0;34m(\u001b[0m\u001b[0;36m20\u001b[0m\u001b[0;34m,\u001b[0m \u001b[0;36m30\u001b[0m\u001b[0;34m,\u001b[0m \u001b[0;36m70\u001b[0m\u001b[0;34m,\u001b[0m \u001b[0;36m0\u001b[0m\u001b[0;34m)\u001b[0m\u001b[0;34m\u001b[0m\u001b[0;34m\u001b[0m\u001b[0m\n\u001b[1;32m      5\u001b[0m \u001b[0;34m\u001b[0m\u001b[0m\n",
            "\u001b[0;31mNameError\u001b[0m: name 'pert' is not defined"
          ]
        }
      ]
    },
    {
      "cell_type": "code",
      "metadata": {
        "colab": {
          "base_uri": "https://localhost:8080/",
          "height": 283
        },
        "id": "w7K4WhCWP4-s",
        "outputId": "758ab3c9-7301-43cc-ba04-f2de1933fccf"
      },
      "source": [
        "#@title Example form fields\n",
        "#@markdown Forms support many types of fields.\n",
        "\n",
        "no_type_checking = ''  #@param\n",
        "string_type = 'example'  #@param {type: \"string\"}\n",
        "slider_value = 185  #@param {type: \"slider\", min: 100, max: 200}\n",
        "number = 102  #@param {type: \"number\"}\n",
        "date = '2010-11-05'  #@param {type: \"date\"}\n",
        "pick_me = \"monday\"  #@param ['monday', 'tuesday', 'wednesday', 'thursday']\n",
        "select_or_input = \"apples\" #@param [\"apples\", \"bananas\", \"oranges\"] {allow-input: true}\n",
        "#@markdown ---\n",
        "\n",
        "\n",
        "import numpy as np\n",
        "import scipy\n",
        "import scipy.stats as st\n",
        "import matplotlib.pyplot as plt\n",
        "import math\n",
        "x = np.linspace(0, 200, 1000)\n",
        "plt.plot(x, st.norm(slider_value, 50).pdf(x))\n",
        "\n"
      ],
      "execution_count": null,
      "outputs": [
        {
          "output_type": "execute_result",
          "data": {
            "text/plain": [
              "[<matplotlib.lines.Line2D at 0x7fdf410e3358>]"
            ]
          },
          "metadata": {
            "tags": []
          },
          "execution_count": 139
        },
        {
          "output_type": "display_data",
          "data": {
            "image/png": "[encoded data removed]",
            "text/plain": [
              "<Figure size 432x288 with 1 Axes>"
            ]
          },
          "metadata": {
            "tags": [],
            "needs_background": "light"
          }
        }
      ]
    },
    {
      "cell_type": "code",
      "metadata": {
        "id": "qQw03lDeS1hD"
      },
      "source": [
        "%%javascript\n",
        "const listenerChannel = new BroadcastChannel('channel');\n",
        "listenerChannel.onmessage = (msg) => {\n",
        "  const div = document.createElement('div');\n",
        "  div.textContent = msg.data;\n",
        "  document.body.appendChild(div);\n",
        "};"
      ],
      "execution_count": null,
      "outputs": []
    },
    {
      "cell_type": "code",
      "metadata": {
        "id": "zEaGgAWuS3mg"
      },
      "source": [
        "# Import PyDrive and associated libraries.\n",
        "# This only needs to be done once per notebook.\n",
        "from pydrive.auth import GoogleAuth\n",
        "from pydrive.drive import GoogleDrive\n",
        "from google.colab import auth\n",
        "from oauth2client.client import GoogleCredentials\n",
        "\n",
        "# Authenticate and create the PyDrive client.\n",
        "# This only needs to be done once per notebook.\n",
        "auth.authenticate_user()\n",
        "gauth = GoogleAuth()\n",
        "gauth.credentials = GoogleCredentials.get_application_default()\n",
        "drive = GoogleDrive(gauth)\n",
        "\n",
        "# Download a file based on its file ID.\n",
        "#\n",
        "# A file ID looks like: laggVyWshwcyP6kEI-y_W3P8D26sz\n",
        "file_id = 'REPLACE_WITH_YOUR_FILE_ID'\n",
        "downloaded = drive.CreateFile({'id': file_id})\n",
        "print('Downloaded content \"{}\"'.format(downloaded.GetContentString()))"
      ],
      "execution_count": null,
      "outputs": []
    },
    {
      "cell_type": "code",
      "metadata": {
        "id": "Nlvgg4RvS5Em"
      },
      "source": [
        "import IPython\n",
        "js_code = '''\n",
        "document.querySelector(\"#output-area\").appendChild(document.createTextNode(\"hello world!\"));\n",
        "'''\n",
        "display(IPython.display.Javascript(js_code))"
      ],
      "execution_count": null,
      "outputs": []
    },
    {
      "cell_type": "code",
      "metadata": {
        "id": "9R2UHvIMS6Gu"
      },
      "source": [
        "# Import PyDrive and associated libraries.\n",
        "# This only needs to be done once per notebook.\n",
        "from pydrive.auth import GoogleAuth\n",
        "from pydrive.drive import GoogleDrive\n",
        "from google.colab import auth\n",
        "from oauth2client.client import GoogleCredentials\n",
        "\n",
        "# Authenticate and create the PyDrive client.\n",
        "# This only needs to be done once per notebook.\n",
        "auth.authenticate_user()\n",
        "gauth = GoogleAuth()\n",
        "gauth.credentials = GoogleCredentials.get_application_default()\n",
        "drive = GoogleDrive(gauth)\n",
        "\n",
        "# Download a file based on its file ID.\n",
        "#\n",
        "# A file ID looks like: laggVyWshwcyP6kEI-y_W3P8D26sz\n",
        "file_id = 'REPLACE_WITH_YOUR_FILE_ID'\n",
        "downloaded = drive.CreateFile({'id': file_id})\n",
        "print('Downloaded content \"{}\"'.format(downloaded.GetContentString()))"
      ],
      "execution_count": null,
      "outputs": []
    },
    {
      "cell_type": "code",
      "metadata": {
        "id": "mNZEc_OJTCDD"
      },
      "source": [
        "from google.colab import drive\n",
        "drive.mount('/content/drive')"
      ],
      "execution_count": null,
      "outputs": []
    },
    {
      "cell_type": "code",
      "metadata": {
        "id": "_FE25NH3S1hD"
      },
      "source": [
        "%%javascript\n",
        "const senderChannel = new BroadcastChannel('channel');\n",
        "senderChannel.postMessage('Hello world!');"
      ],
      "execution_count": null,
      "outputs": []
    },
    {
      "cell_type": "code",
      "metadata": {
        "id": "hJevv5eZ0PC6",
        "colab": {
          "base_uri": "https://localhost:8080/",
          "height": 140
        },
        "outputId": "91a87e8a-3896-495d-9fc2-829284726442"
      },
      "source": [
        "from sympy import *\n",
        "n, ub, lb, mu, i, j = symbols(\"n ub lb \\mu i j\")\n",
        "\n",
        "x = [ub, lb]\n",
        "x = IndexedBase(\"x\")\n",
        "\n",
        "n = 2\n",
        "mu = Sum(x[i], (i, 1, n))/n\n",
        "display(mu), display(mu.doit())\n",
        "\n",
        "f1 = sqrt(1/n*Sum((mu - x[j])**2, (j, 1, n)))\n",
        "display(f1)\n",
        "f2 = f1.doit()\n",
        "\n",
        "N(simplify(f2))"
      ],
      "execution_count": null,
      "outputs": [
        {
          "output_type": "display_data",
          "data": {
            "text/latex": "$$\\frac{\\sum_{i=1}^{2} x_{i}}{2}$$",
            "text/plain": [
              "  2       \n",
              " ___      \n",
              " ╲        \n",
              "  ╲   x[i]\n",
              "  ╱       \n",
              " ╱        \n",
              " ‾‾‾      \n",
              "i = 1     \n",
              "──────────\n",
              "    2     "
            ]
          },
          "metadata": {
            "tags": []
          }
        },
        {
          "output_type": "display_data",
          "data": {
            "text/latex": "$$\\frac{x_{1}}{2} + \\frac{x_{2}}{2}$$",
            "text/plain": [
              "x[1]   x[2]\n",
              "──── + ────\n",
              " 2      2  "
            ]
          },
          "metadata": {
            "tags": []
          }
        },
        {
          "output_type": "display_data",
          "data": {
            "text/latex": "$$0.707106781186548 \\sqrt{\\sum_{j=1}^{2} \\left(- x_{j} + \\frac{\\sum_{i=1}^{2} x_{i}}{2}\\right)^{2}}$$",
            "text/plain": [
              "                                     ________________________________\n",
              "                                    ╱    2                           \n",
              "                                   ╱  ________                       \n",
              "                                  ╱   ╲                              \n",
              "                                 ╱     ╲                           2 \n",
              "                                ╱       ╲      ⎛          2       ⎞  \n",
              "                               ╱         ╲     ⎜         ___      ⎟  \n",
              "                              ╱           ╲    ⎜         ╲        ⎟  \n",
              "                             ╱             ╲   ⎜          ╲   x[i]⎟  \n",
              "                            ╱               ╲  ⎜          ╱       ⎟  \n",
              "0.707106781186548⋅         ╱                ╱  ⎜         ╱        ⎟  \n",
              "                          ╱                ╱   ⎜         ‾‾‾      ⎟  \n",
              "                         ╱                ╱    ⎜        i = 1     ⎟  \n",
              "                        ╱                ╱     ⎜-x[j] + ──────────⎟  \n",
              "                       ╱                ╱      ⎝            2     ⎠  \n",
              "                      ╱                ╱                             \n",
              "                     ╱                ╱                              \n",
              "                    ╱                 ‾‾‾‾‾‾‾‾                       \n",
              "                  ╲╱                   j = 1                         "
            ]
          },
          "metadata": {
            "tags": []
          }
        },
        {
          "output_type": "execute_result",
          "data": {
            "text/latex": "$$0.5 \\left(\\left(x_{1} - x_{2}\\right)^{2}\\right)^{0.5}$$",
            "text/plain": [
              "                    0.5\n",
              "    ⎛             2⎞   \n",
              "0.5⋅⎝(x[1] - x[2]) ⎠   "
            ]
          },
          "metadata": {
            "tags": []
          },
          "execution_count": 123
        }
      ]
    },
    {
      "cell_type": "code",
      "metadata": {
        "id": "17vLZwR30hpQ",
        "colab": {
          "base_uri": "https://localhost:8080/",
          "height": 37
        },
        "outputId": "a78053ae-1af6-48f7-8d7c-6799ac56ced1"
      },
      "source": [
        "import scipy\n",
        "import scipy.stats as st\n",
        "\n",
        "st.norm().ppf(0.95)-st.norm().ppf(0.05)\n",
        "\n"
      ],
      "execution_count": null,
      "outputs": [
        {
          "output_type": "execute_result",
          "data": {
            "text/latex": "$$3.289707253902945$$",
            "text/plain": [
              "3.289707253902945"
            ]
          },
          "metadata": {
            "tags": []
          },
          "execution_count": 132
        }
      ]
    },
    {
      "cell_type": "code",
      "metadata": {
        "colab": {
          "base_uri": "https://localhost:8080/"
        },
        "id": "23zByYvET8ks",
        "outputId": "4fac8159-01d6-4d3e-d79f-04bea6930e36"
      },
      "source": [
        "import requests  # Import the requests library\n",
        "\n",
        "# Query URL\n",
        "url = ('http://ec.europa.eu/eurostat/wdds/rest/data/v2.1/json/en'\n",
        "       '/nama_10_gdp?precision=1'\n",
        "       '&unit=CLV05_MEUR'  # Unit: CLV (2005) Million EUR\n",
        "       '&geo=NL&geo=DE'  # Country: Netherlands, Germany\n",
        "       '&time=2010&time=2011&time=2012'  # Years: 2010, 2011, 2012\n",
        "       '&na_item=B1GQ&na_item=D21'  # GDP (market prices) & taxes on products\n",
        "       )\n",
        "# Some api's will have nicer syntax like:\n",
        "# `&time=2010..2012` or `&na_item=B1GQ,D21`\n",
        "print(url)\n",
        "\n",
        "response = requests.get(url)  # Make a GET request to the URL\n",
        "\n",
        "# Print status code (and associated text)\n",
        "print(f\"Request returned {response.status_code} : '{response.reason}'\")\n",
        "\n",
        "# Print data returned (parsing as JSON)\n",
        "payload = response.json()  # Parse `response.text` into JSON\n",
        "\n",
        "import pprint\n",
        "pp = pprint.PrettyPrinter(indent=1)\n",
        "pp.pprint(payload)\n",
        "# NOTE: Could use print(response.json()) but this wouldn't be formatted nicely"
      ],
      "execution_count": null,
      "outputs": [
        {
          "output_type": "stream",
          "text": [
            "http://ec.europa.eu/eurostat/wdds/rest/data/v2.1/json/en/nama_10_gdp?precision=1&unit=CLV05_MEUR&geo=NL&geo=DE&time=2010&time=2011&time=2012&na_item=B1GQ&na_item=D21\n",
            "Request returned 200 : 'OK'\n",
            "{'class': 'dataset',\n",
            " 'dimension': {'geo': {'category': {'index': {'DE': 0, 'NL': 1},\n",
            "                                    'label': {'DE': 'Germany (until 1990 '\n",
            "                                                    'former territory of the '\n",
            "                                                    'FRG)',\n",
            "                                              'NL': 'Netherlands'}},\n",
            "                       'label': 'geo'},\n",
            "               'na_item': {'category': {'index': {'B1GQ': 0, 'D21': 1},\n",
            "                                        'label': {'B1GQ': 'Gross domestic '\n",
            "                                                          'product at market '\n",
            "                                                          'prices',\n",
            "                                                  'D21': 'Taxes on products'}},\n",
            "                           'label': 'na_item'},\n",
            "               'time': {'category': {'index': {'2010': 0, '2011': 1, '2012': 2},\n",
            "                                     'label': {'2010': '2010',\n",
            "                                               '2011': '2011',\n",
            "                                               '2012': '2012'}},\n",
            "                        'label': 'time'},\n",
            "               'unit': {'category': {'index': {'CLV05_MEUR': 0},\n",
            "                                     'label': {'CLV05_MEUR': 'Chain linked '\n",
            "                                                             'volumes (2005), '\n",
            "                                                             'million euro'}},\n",
            "                        'label': 'unit'}},\n",
            " 'extension': {'datasetId': 'nama_10_gdp',\n",
            "               'description': None,\n",
            "               'lang': 'EN',\n",
            "               'subTitle': None},\n",
            " 'href': 'http://ec.europa.eu/eurostat/wdds/rest/data/v2.1/json/en/nama_10_gdp?precision=1&unit=CLV05_MEUR&geo=NL&geo=DE&time=2010&time=2011&time=2012&na_item=B1GQ&na_item=D21',\n",
            " 'id': ['unit', 'na_item', 'geo', 'time'],\n",
            " 'label': 'GDP and main components (output, expenditure and income)',\n",
            " 'size': [1, 2, 2, 3],\n",
            " 'source': 'Eurostat',\n",
            " 'updated': '2020-11-17',\n",
            " 'value': {'0': 2426563.7,\n",
            "           '1': 2521811.0,\n",
            "           '10': 59852.5,\n",
            "           '11': 57924.1,\n",
            "           '2': 2532364.7,\n",
            "           '3': 589946.6,\n",
            "           '4': 599097.8,\n",
            "           '5': 592925.0,\n",
            "           '6': 228301.5,\n",
            "           '7': 237271.4,\n",
            "           '8': 236319.0,\n",
            "           '9': 60631.6},\n",
            " 'version': '2.0'}\n"
          ],
          "name": "stdout"
        }
      ]
    }
  ]
}